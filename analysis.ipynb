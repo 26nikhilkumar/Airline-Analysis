{
 "cells": [
  {
   "cell_type": "code",
   "execution_count": 1,
   "metadata": {},
   "outputs": [],
   "source": [
    "import pandas as pd"
   ]
  },
  {
   "cell_type": "code",
   "execution_count": 2,
   "metadata": {},
   "outputs": [],
   "source": [
    "df = pd.read_csv(\"airlines1.csv\")"
   ]
  },
  {
   "cell_type": "code",
   "execution_count": 3,
   "metadata": {},
   "outputs": [
    {
     "data": {
      "text/html": [
       "<div>\n",
       "<style scoped>\n",
       "    .dataframe tbody tr th:only-of-type {\n",
       "        vertical-align: middle;\n",
       "    }\n",
       "\n",
       "    .dataframe tbody tr th {\n",
       "        vertical-align: top;\n",
       "    }\n",
       "\n",
       "    .dataframe thead th {\n",
       "        text-align: right;\n",
       "    }\n",
       "</style>\n",
       "<table border=\"1\" class=\"dataframe\">\n",
       "  <thead>\n",
       "    <tr style=\"text-align: right;\">\n",
       "      <th></th>\n",
       "      <th>Unnamed: 0</th>\n",
       "      <th>Year</th>\n",
       "      <th>Quarter</th>\n",
       "      <th>Month</th>\n",
       "      <th>DayofMonth</th>\n",
       "      <th>DayOfWeek</th>\n",
       "      <th>FlightDate</th>\n",
       "      <th>Reporting_Airline</th>\n",
       "      <th>DOT_ID_Reporting_Airline</th>\n",
       "      <th>IATA_CODE_Reporting_Airline</th>\n",
       "      <th>...</th>\n",
       "      <th>Div4WheelsOff</th>\n",
       "      <th>Div4TailNum</th>\n",
       "      <th>Div5Airport</th>\n",
       "      <th>Div5AirportID</th>\n",
       "      <th>Div5AirportSeqID</th>\n",
       "      <th>Div5WheelsOn</th>\n",
       "      <th>Div5TotalGTime</th>\n",
       "      <th>Div5LongestGTime</th>\n",
       "      <th>Div5WheelsOff</th>\n",
       "      <th>Div5TailNum</th>\n",
       "    </tr>\n",
       "  </thead>\n",
       "  <tbody>\n",
       "    <tr>\n",
       "      <th>0</th>\n",
       "      <td>0</td>\n",
       "      <td>1998</td>\n",
       "      <td>1</td>\n",
       "      <td>1</td>\n",
       "      <td>2</td>\n",
       "      <td>5</td>\n",
       "      <td>1998-01-02</td>\n",
       "      <td>NW</td>\n",
       "      <td>19386</td>\n",
       "      <td>NW</td>\n",
       "      <td>...</td>\n",
       "      <td>NaN</td>\n",
       "      <td>NaN</td>\n",
       "      <td>NaN</td>\n",
       "      <td>NaN</td>\n",
       "      <td>NaN</td>\n",
       "      <td>NaN</td>\n",
       "      <td>NaN</td>\n",
       "      <td>NaN</td>\n",
       "      <td>NaN</td>\n",
       "      <td>NaN</td>\n",
       "    </tr>\n",
       "    <tr>\n",
       "      <th>1</th>\n",
       "      <td>1</td>\n",
       "      <td>2009</td>\n",
       "      <td>2</td>\n",
       "      <td>5</td>\n",
       "      <td>28</td>\n",
       "      <td>4</td>\n",
       "      <td>2009-05-28</td>\n",
       "      <td>FL</td>\n",
       "      <td>20437</td>\n",
       "      <td>FL</td>\n",
       "      <td>...</td>\n",
       "      <td>NaN</td>\n",
       "      <td>NaN</td>\n",
       "      <td>NaN</td>\n",
       "      <td>NaN</td>\n",
       "      <td>NaN</td>\n",
       "      <td>NaN</td>\n",
       "      <td>NaN</td>\n",
       "      <td>NaN</td>\n",
       "      <td>NaN</td>\n",
       "      <td>NaN</td>\n",
       "    </tr>\n",
       "    <tr>\n",
       "      <th>2</th>\n",
       "      <td>2</td>\n",
       "      <td>2013</td>\n",
       "      <td>2</td>\n",
       "      <td>6</td>\n",
       "      <td>29</td>\n",
       "      <td>6</td>\n",
       "      <td>2013-06-29</td>\n",
       "      <td>MQ</td>\n",
       "      <td>20398</td>\n",
       "      <td>MQ</td>\n",
       "      <td>...</td>\n",
       "      <td>NaN</td>\n",
       "      <td>NaN</td>\n",
       "      <td>NaN</td>\n",
       "      <td>NaN</td>\n",
       "      <td>NaN</td>\n",
       "      <td>NaN</td>\n",
       "      <td>NaN</td>\n",
       "      <td>NaN</td>\n",
       "      <td>NaN</td>\n",
       "      <td>NaN</td>\n",
       "    </tr>\n",
       "    <tr>\n",
       "      <th>3</th>\n",
       "      <td>3</td>\n",
       "      <td>2010</td>\n",
       "      <td>3</td>\n",
       "      <td>8</td>\n",
       "      <td>31</td>\n",
       "      <td>2</td>\n",
       "      <td>2010-08-31</td>\n",
       "      <td>DL</td>\n",
       "      <td>19790</td>\n",
       "      <td>DL</td>\n",
       "      <td>...</td>\n",
       "      <td>NaN</td>\n",
       "      <td>NaN</td>\n",
       "      <td>NaN</td>\n",
       "      <td>NaN</td>\n",
       "      <td>NaN</td>\n",
       "      <td>NaN</td>\n",
       "      <td>NaN</td>\n",
       "      <td>NaN</td>\n",
       "      <td>NaN</td>\n",
       "      <td>NaN</td>\n",
       "    </tr>\n",
       "  </tbody>\n",
       "</table>\n",
       "<p>4 rows × 110 columns</p>\n",
       "</div>"
      ],
      "text/plain": [
       "   Unnamed: 0  Year  Quarter  Month  DayofMonth  DayOfWeek  FlightDate  \\\n",
       "0           0  1998        1      1           2          5  1998-01-02   \n",
       "1           1  2009        2      5          28          4  2009-05-28   \n",
       "2           2  2013        2      6          29          6  2013-06-29   \n",
       "3           3  2010        3      8          31          2  2010-08-31   \n",
       "\n",
       "  Reporting_Airline  DOT_ID_Reporting_Airline IATA_CODE_Reporting_Airline  \\\n",
       "0                NW                     19386                          NW   \n",
       "1                FL                     20437                          FL   \n",
       "2                MQ                     20398                          MQ   \n",
       "3                DL                     19790                          DL   \n",
       "\n",
       "   ... Div4WheelsOff  Div4TailNum  Div5Airport  Div5AirportID  \\\n",
       "0  ...           NaN          NaN          NaN            NaN   \n",
       "1  ...           NaN          NaN          NaN            NaN   \n",
       "2  ...           NaN          NaN          NaN            NaN   \n",
       "3  ...           NaN          NaN          NaN            NaN   \n",
       "\n",
       "   Div5AirportSeqID Div5WheelsOn Div5TotalGTime Div5LongestGTime  \\\n",
       "0               NaN          NaN            NaN              NaN   \n",
       "1               NaN          NaN            NaN              NaN   \n",
       "2               NaN          NaN            NaN              NaN   \n",
       "3               NaN          NaN            NaN              NaN   \n",
       "\n",
       "   Div5WheelsOff Div5TailNum  \n",
       "0            NaN         NaN  \n",
       "1            NaN         NaN  \n",
       "2            NaN         NaN  \n",
       "3            NaN         NaN  \n",
       "\n",
       "[4 rows x 110 columns]"
      ]
     },
     "execution_count": 3,
     "metadata": {},
     "output_type": "execute_result"
    }
   ],
   "source": [
    "df.head(4)"
   ]
  },
  {
   "cell_type": "code",
   "execution_count": 4,
   "metadata": {},
   "outputs": [
    {
     "data": {
      "text/plain": [
       "(50001, 110)"
      ]
     },
     "execution_count": 4,
     "metadata": {},
     "output_type": "execute_result"
    }
   ],
   "source": [
    "df.shape"
   ]
  },
  {
   "cell_type": "code",
   "execution_count": 5,
   "metadata": {},
   "outputs": [],
   "source": [
    "from pyspark.sql import SparkSession"
   ]
  },
  {
   "cell_type": "code",
   "execution_count": 6,
   "metadata": {},
   "outputs": [],
   "source": [
    "spark = SparkSession.builder.appName(\"airline\").getOrCreate()"
   ]
  },
  {
   "cell_type": "code",
   "execution_count": 7,
   "metadata": {},
   "outputs": [],
   "source": [
    "df = spark.read.option(\"header\",True).csv(\"airlines1.csv\")"
   ]
  },
  {
   "cell_type": "code",
   "execution_count": 8,
   "metadata": {},
   "outputs": [],
   "source": [
    "df1 = df.select(\"Year\",\"Month\",\"DayofMonth\",\"FlightDate\",\"Tail_Number\", \"Flight_Number_Reporting_Airline\")"
   ]
  },
  {
   "cell_type": "code",
   "execution_count": 9,
   "metadata": {},
   "outputs": [
    {
     "name": "stdout",
     "output_type": "stream",
     "text": [
      "+----+-----+----------+----------+-----------+-------------------------------+\n",
      "|Year|Month|DayofMonth|FlightDate|Tail_Number|Flight_Number_Reporting_Airline|\n",
      "+----+-----+----------+----------+-----------+-------------------------------+\n",
      "|1998|    1|         2|1998-01-02|     N297US|                            675|\n",
      "|2009|    5|        28|2009-05-28|     N946AT|                            671|\n",
      "|2013|    6|        29|2013-06-29|     N665MQ|                           3297|\n",
      "|2010|    8|        31|2010-08-31|     N6705Y|                           1806|\n",
      "|2006|    1|        15|2006-01-15|     N504AU|                            465|\n",
      "+----+-----+----------+----------+-----------+-------------------------------+\n",
      "only showing top 5 rows\n",
      "\n"
     ]
    }
   ],
   "source": [
    "df1.show(5)"
   ]
  },
  {
   "cell_type": "code",
   "execution_count": 10,
   "metadata": {},
   "outputs": [
    {
     "name": "stdout",
     "output_type": "stream",
     "text": [
      "+-------+------------------+------------------+------------------+----------+-----------+-------------------------------+\n",
      "|summary|              Year|             Month|        DayofMonth|FlightDate|Tail_Number|Flight_Number_Reporting_Airline|\n",
      "+-------+------------------+------------------+------------------+----------+-----------+-------------------------------+\n",
      "|  count|             50001|             50001|             50001|     50001|      40158|                          50001|\n",
      "|   mean|2004.2978140437192|  6.49365012699746|15.707945841083179|      null|       null|             1733.9209215815683|\n",
      "| stddev|  9.22858629593392|3.4551359855013577| 8.757785260118377|      null|       null|              1671.689652545134|\n",
      "|    min|              1987|                 1|                 1|1987-10-01|     -N108D|                              1|\n",
      "|    max|              2020|                 9|                 9|2020-03-31|     äNKNOæ|                            999|\n",
      "+-------+------------------+------------------+------------------+----------+-----------+-------------------------------+\n",
      "\n"
     ]
    }
   ],
   "source": [
    "df1.describe().show()"
   ]
  },
  {
   "cell_type": "code",
   "execution_count": 11,
   "metadata": {},
   "outputs": [
    {
     "name": "stdout",
     "output_type": "stream",
     "text": [
      "+----+-----+\n",
      "|Year|count|\n",
      "+----+-----+\n",
      "|1987|  339|\n",
      "|2016| 1502|\n",
      "|2020|  462|\n",
      "|2012| 1519|\n",
      "|1988| 1310|\n",
      "|2019| 1900|\n",
      "|2017| 1449|\n",
      "|2014| 1513|\n",
      "|2013| 1690|\n",
      "|2005| 1812|\n",
      "|2000| 1477|\n",
      "|2002| 1371|\n",
      "|2009| 1604|\n",
      "|2018| 1862|\n",
      "|1995| 1377|\n",
      "|2006| 1900|\n",
      "|2004| 1847|\n",
      "|2011| 1551|\n",
      "|1989| 1288|\n",
      "|1992| 1335|\n",
      "+----+-----+\n",
      "only showing top 20 rows\n",
      "\n"
     ]
    }
   ],
   "source": [
    "# show total no of flights in each year\n",
    "df.select(\"Year\").groupBy(\"Year\").count().show()"
   ]
  },
  {
   "cell_type": "code",
   "execution_count": 12,
   "metadata": {},
   "outputs": [
    {
     "name": "stdout",
     "output_type": "stream",
     "text": [
      "+-----+-----+\n",
      "|Month|count|\n",
      "+-----+-----+\n",
      "|    7| 4267|\n",
      "|   11| 3997|\n",
      "|    3| 4396|\n",
      "|    8| 4414|\n",
      "|    5| 4167|\n",
      "|    6| 4078|\n",
      "|    9| 3954|\n",
      "|    1| 4362|\n",
      "|   10| 4264|\n",
      "|    4| 3969|\n",
      "|   12| 4232|\n",
      "|    2| 3901|\n",
      "+-----+-----+\n",
      "\n"
     ]
    }
   ],
   "source": [
    "# show total no of flights in each month\n",
    "df.select(\"Month\").groupBy(\"Month\").count().show()"
   ]
  },
  {
   "cell_type": "code",
   "execution_count": 13,
   "metadata": {},
   "outputs": [
    {
     "name": "stdout",
     "output_type": "stream",
     "text": [
      "+----+-----+\n",
      "|Year|count|\n",
      "+----+-----+\n",
      "|1987|    3|\n",
      "|2016|   17|\n",
      "|2012|   20|\n",
      "|2020|   24|\n",
      "|1988|   15|\n",
      "|2019|   34|\n",
      "|2017|   22|\n",
      "|2014|   31|\n",
      "|2013|   22|\n",
      "|2005|   33|\n",
      "|2000|   42|\n",
      "|2002|   11|\n",
      "|2018|   24|\n",
      "|2009|   19|\n",
      "|1995|   22|\n",
      "|2006|   30|\n",
      "|2004|   29|\n",
      "|2011|   29|\n",
      "|1989|   26|\n",
      "|1992|   14|\n",
      "+----+-----+\n",
      "only showing top 20 rows\n",
      "\n"
     ]
    }
   ],
   "source": [
    "# count the no. of cancelled flights in each year\n",
    "df.select(\"Year\").filter(\"Cancelled = 1\").groupBy(\"Year\").count().show()"
   ]
  },
  {
   "cell_type": "code",
   "execution_count": 14,
   "metadata": {},
   "outputs": [
    {
     "name": "stdout",
     "output_type": "stream",
     "text": [
      "+-----+-----+\n",
      "|Month|count|\n",
      "+-----+-----+\n",
      "|    7|   60|\n",
      "|   11|   46|\n",
      "|    3|  106|\n",
      "|    8|   75|\n",
      "|    5|   39|\n",
      "|    6|   60|\n",
      "|    9|  101|\n",
      "|    1|  132|\n",
      "|   10|   57|\n",
      "|    4|   44|\n",
      "|   12|   68|\n",
      "|    2|   90|\n",
      "+-----+-----+\n",
      "\n"
     ]
    }
   ],
   "source": [
    "# count the no. of cancelled flights in each month\n",
    "df.select(\"Month\").filter(\"Cancelled = 1\").groupBy(\"Month\").count().show()"
   ]
  },
  {
   "cell_type": "code",
   "execution_count": 15,
   "metadata": {},
   "outputs": [
    {
     "name": "stdout",
     "output_type": "stream",
     "text": [
      "+------+-----+\n",
      "|Origin|count|\n",
      "+------+-----+\n",
      "|   BGM|   11|\n",
      "|   INL|    1|\n",
      "|   MSY|  383|\n",
      "|   GEG|  118|\n",
      "|   BUR|  222|\n",
      "|   SNA|  339|\n",
      "|   GRB|   42|\n",
      "|   GTF|   27|\n",
      "|   IDA|   17|\n",
      "|   GRR|  106|\n",
      "|   EUG|   34|\n",
      "|   PSG|   11|\n",
      "|   GSO|  124|\n",
      "|   PVD|  141|\n",
      "|   MYR|   41|\n",
      "|   OAK|  435|\n",
      "|   MSN|   81|\n",
      "|   FAR|   29|\n",
      "|   COD|    3|\n",
      "|   FSM|    5|\n",
      "+------+-----+\n",
      "only showing top 20 rows\n",
      "\n"
     ]
    }
   ],
   "source": [
    "# total no. of flights by departure airports\n",
    "df.select(\"Origin\").groupBy(\"Origin\").count().show()"
   ]
  },
  {
   "cell_type": "code",
   "execution_count": 20,
   "metadata": {},
   "outputs": [
    {
     "name": "stdout",
     "output_type": "stream",
     "text": [
      "['_c0', 'Year', 'Quarter', 'Month', 'DayofMonth', 'DayOfWeek', 'FlightDate', 'Reporting_Airline', 'DOT_ID_Reporting_Airline', 'IATA_CODE_Reporting_Airline', 'Tail_Number', 'Flight_Number_Reporting_Airline', 'OriginAirportID', 'OriginAirportSeqID', 'OriginCityMarketID', 'Origin', 'OriginCityName', 'OriginState', 'OriginStateFips', 'OriginStateName', 'OriginWac', 'DestAirportID', 'DestAirportSeqID', 'DestCityMarketID', 'Dest', 'DestCityName', 'DestState', 'DestStateFips', 'DestStateName', 'DestWac', 'CRSDepTime', 'DepTime', 'DepDelay', 'DepDelayMinutes', 'DepDel15', 'DepartureDelayGroups', 'DepTimeBlk', 'TaxiOut', 'WheelsOff', 'WheelsOn', 'TaxiIn', 'CRSArrTime', 'ArrTime', 'ArrDelay', 'ArrDelayMinutes', 'ArrDel15', 'ArrivalDelayGroups', 'ArrTimeBlk', 'Cancelled', 'CancellationCode', 'Diverted', 'CRSElapsedTime', 'ActualElapsedTime', 'AirTime', 'Flights', 'Distance', 'DistanceGroup', 'CarrierDelay', 'WeatherDelay', 'NASDelay', 'SecurityDelay', 'LateAircraftDelay', 'FirstDepTime', 'TotalAddGTime', 'LongestAddGTime', 'DivAirportLandings', 'DivReachedDest', 'DivActualElapsedTime', 'DivArrDelay', 'DivDistance', 'Div1Airport', 'Div1AirportID', 'Div1AirportSeqID', 'Div1WheelsOn', 'Div1TotalGTime', 'Div1LongestGTime', 'Div1WheelsOff', 'Div1TailNum', 'Div2Airport', 'Div2AirportID', 'Div2AirportSeqID', 'Div2WheelsOn', 'Div2TotalGTime', 'Div2LongestGTime', 'Div2WheelsOff', 'Div2TailNum', 'Div3Airport', 'Div3AirportID', 'Div3AirportSeqID', 'Div3WheelsOn', 'Div3TotalGTime', 'Div3LongestGTime', 'Div3WheelsOff', 'Div3TailNum', 'Div4Airport', 'Div4AirportID', 'Div4AirportSeqID', 'Div4WheelsOn', 'Div4TotalGTime', 'Div4LongestGTime', 'Div4WheelsOff', 'Div4TailNum', 'Div5Airport', 'Div5AirportID', 'Div5AirportSeqID', 'Div5WheelsOn', 'Div5TotalGTime', 'Div5LongestGTime', 'Div5WheelsOff', 'Div5TailNum']\n"
     ]
    }
   ],
   "source": [
    "print(df.columns)"
   ]
  },
  {
   "cell_type": "code",
   "execution_count": 22,
   "metadata": {},
   "outputs": [
    {
     "name": "stdout",
     "output_type": "stream",
     "text": [
      "+----+-----+\n",
      "|year|count|\n",
      "+----+-----+\n",
      "|1987|  187|\n",
      "|2016|  978|\n",
      "|2012|  949|\n",
      "|2020|  320|\n",
      "|1988|  775|\n",
      "|2019| 1171|\n",
      "|2017|  911|\n",
      "|2014|  885|\n",
      "|2013| 1011|\n",
      "|2005| 1122|\n",
      "|2000|  812|\n",
      "|2002|  891|\n",
      "|2009|  996|\n",
      "|2018| 1214|\n",
      "|1995|  648|\n",
      "|2006| 1116|\n",
      "|2004| 1226|\n",
      "|2011|  955|\n",
      "|1989|  705|\n",
      "|1992|  721|\n",
      "+----+-----+\n",
      "only showing top 20 rows\n",
      "\n"
     ]
    }
   ],
   "source": [
    "# year-wise on-time departure flights\n",
    "df.select(\"year\").filter(\"DepDelay <= 0 \").groupBy(\"year\").count().show()"
   ]
  },
  {
   "cell_type": "code",
   "execution_count": 23,
   "metadata": {},
   "outputs": [
    {
     "name": "stdout",
     "output_type": "stream",
     "text": [
      "+----+-----+\n",
      "|year|count|\n",
      "+----+-----+\n",
      "|1987|  149|\n",
      "|2016|  507|\n",
      "|2020|  118|\n",
      "|2012|  551|\n",
      "|1988|  520|\n",
      "|2019|  695|\n",
      "|2017|  516|\n",
      "|2014|  597|\n",
      "|2013|  659|\n",
      "|2005|  657|\n",
      "|2000|  623|\n",
      "|2002|  469|\n",
      "|2018|  622|\n",
      "|2009|  590|\n",
      "|1995|  707|\n",
      "|2006|  754|\n",
      "|2004|  592|\n",
      "|2011|  569|\n",
      "|1989|  557|\n",
      "|1992|  600|\n",
      "+----+-----+\n",
      "only showing top 20 rows\n",
      "\n"
     ]
    }
   ],
   "source": [
    "# year-wise departure departure flights\n",
    "df.select(\"year\").filter(\"DepDelay > 0 \").groupBy(\"year\").count().show()"
   ]
  },
  {
   "cell_type": "code",
   "execution_count": 26,
   "metadata": {},
   "outputs": [
    {
     "name": "stdout",
     "output_type": "stream",
     "text": [
      "+----+-----+\n",
      "|year|count|\n",
      "+----+-----+\n",
      "|1987|   96|\n",
      "|2016|  840|\n",
      "|2012|  782|\n",
      "|2020|  280|\n",
      "|1988|  474|\n",
      "|2019|  982|\n",
      "|2017|  739|\n",
      "|2014|  726|\n",
      "|2013|  829|\n",
      "|2005|  845|\n",
      "|2000|  579|\n",
      "|2002|  695|\n",
      "|2009|  793|\n",
      "|2018| 1032|\n",
      "|1995|  444|\n",
      "|2006|  821|\n",
      "|2004|  921|\n",
      "|1989|  453|\n",
      "|2011|  757|\n",
      "|1992|  501|\n",
      "+----+-----+\n",
      "only showing top 20 rows\n",
      "\n"
     ]
    }
   ],
   "source": [
    "# calculate year-wise performance of flights like on-time departure, on-time arrival\n",
    "df.select(\"year\").filter((df.DepDelay <= 0 ) & (df.ArrDelay <= 0)).groupBy(\"year\").count().show()"
   ]
  },
  {
   "cell_type": "code",
   "execution_count": 27,
   "metadata": {},
   "outputs": [],
   "source": [
    "Flight_Origin= df.select(\"_c0\",\"OriginAirportID\", \"OriginAirportSeqID\", \"OriginCityMarketID\",\"Origin\", \"OriginCityName\",\"OriginState\", \"OriginStateName\")\n",
    "Flight_Destination = df.select(\"_c0\",\"DestAirportID\", \"DestAirportSeqID\", \"Dest\", \"DestCityName\",\"DestState\",\"DestStateName\")\n",
    "Flight_arr_dep = df.select(\"_c0\",\"CRSArrTime\",\"ArrTime\", \"CRSDepTime\",\"DepTime\")\n",
    "DelayDF= df.select(\"_c0\",\"CarrierDelay\",\"WeatherDelay\", \"NASDelay\",\"SecurityDelay\",\"LateAircraftDelay\")\n",
    "Flight_cancel = df.select(\"_c0\",\"Cancelled\",\"CancellationCode\",\"Diverted\",\"Flights\")"
   ]
  },
  {
   "cell_type": "code",
   "execution_count": 28,
   "metadata": {},
   "outputs": [],
   "source": [
    "Flight_cancel = Flight_cancel.withColumnRenamed(\"_c0\",\"ID\")"
   ]
  },
  {
   "cell_type": "code",
   "execution_count": 29,
   "metadata": {},
   "outputs": [
    {
     "name": "stdout",
     "output_type": "stream",
     "text": [
      "+---+---------+----------------+--------+-------+\n",
      "| ID|Cancelled|CancellationCode|Diverted|Flights|\n",
      "+---+---------+----------------+--------+-------+\n",
      "|  0|      0.0|            null|     0.0|    1.0|\n",
      "|  1|      0.0|            null|     0.0|    1.0|\n",
      "|  2|      0.0|            null|     0.0|    1.0|\n",
      "|  3|      0.0|            null|     0.0|    1.0|\n",
      "|  4|      0.0|            null|     0.0|    1.0|\n",
      "|  5|      0.0|            null|     0.0|    1.0|\n",
      "|  6|      0.0|            null|     0.0|    1.0|\n",
      "|  7|      0.0|            null|     0.0|    1.0|\n",
      "|  8|      0.0|            null|     0.0|    1.0|\n",
      "|  9|      0.0|            null|     0.0|    1.0|\n",
      "| 10|      0.0|            null|     0.0|    1.0|\n",
      "| 11|      0.0|            null|     0.0|    1.0|\n",
      "| 12|      0.0|            null|     0.0|    1.0|\n",
      "| 13|      0.0|            null|     0.0|    1.0|\n",
      "| 14|      0.0|            null|     0.0|    1.0|\n",
      "| 15|      0.0|            null|     0.0|    1.0|\n",
      "| 16|      0.0|            null|     0.0|    1.0|\n",
      "| 17|      0.0|            null|     0.0|    1.0|\n",
      "| 18|      0.0|            null|     0.0|    1.0|\n",
      "| 19|      1.0|               A|     0.0|    1.0|\n",
      "+---+---------+----------------+--------+-------+\n",
      "only showing top 20 rows\n",
      "\n"
     ]
    }
   ],
   "source": [
    "Flight_cancel.show()"
   ]
  },
  {
   "cell_type": "markdown",
   "metadata": {
    "tags": []
   },
   "source": [
    "# Data Cleaning\n",
    "# handling null values"
   ]
  },
  {
   "cell_type": "code",
   "execution_count": 33,
   "metadata": {},
   "outputs": [
    {
     "name": "stdout",
     "output_type": "stream",
     "text": [
      "+----+---------+----------------+--------+-------+\n",
      "|  ID|Cancelled|CancellationCode|Diverted|Flights|\n",
      "+----+---------+----------------+--------+-------+\n",
      "|  19|      1.0|               A|     0.0|    1.0|\n",
      "| 146|      1.0|               B|     0.0|    1.0|\n",
      "| 197|      1.0|               C|     0.0|    1.0|\n",
      "| 554|      1.0|               A|     0.0|    1.0|\n",
      "| 680|      1.0|               A|     0.0|    1.0|\n",
      "| 841|      1.0|               A|     0.0|    1.0|\n",
      "| 905|      1.0|               B|     0.0|    1.0|\n",
      "| 911|      1.0|               B|     0.0|    1.0|\n",
      "| 965|      1.0|               B|     0.0|    1.0|\n",
      "|1082|      1.0|               C|     0.0|    1.0|\n",
      "|1246|      1.0|               A|     0.0|    1.0|\n",
      "|1443|      1.0|               B|     0.0|    1.0|\n",
      "|1450|      1.0|               A|     0.0|    1.0|\n",
      "|1633|      1.0|               A|     0.0|    1.0|\n",
      "|1730|      1.0|               B|     0.0|    1.0|\n",
      "|1773|      1.0|               C|     0.0|    1.0|\n",
      "|1904|      1.0|               B|     0.0|    1.0|\n",
      "|1908|      1.0|               B|     0.0|    1.0|\n",
      "|1913|      1.0|               A|     0.0|    1.0|\n",
      "|2450|      1.0|               A|     0.0|    1.0|\n",
      "+----+---------+----------------+--------+-------+\n",
      "only showing top 20 rows\n",
      "\n"
     ]
    }
   ],
   "source": [
    "Flight_cancel.na.drop().show()"
   ]
  },
  {
   "cell_type": "code",
   "execution_count": 34,
   "metadata": {},
   "outputs": [
    {
     "name": "stdout",
     "output_type": "stream",
     "text": [
      "+----+---------+----------------+--------+-------+\n",
      "|  ID|Cancelled|CancellationCode|Diverted|Flights|\n",
      "+----+---------+----------------+--------+-------+\n",
      "|  19|      1.0|               A|     0.0|    1.0|\n",
      "| 146|      1.0|               B|     0.0|    1.0|\n",
      "| 197|      1.0|               C|     0.0|    1.0|\n",
      "| 554|      1.0|               A|     0.0|    1.0|\n",
      "| 680|      1.0|               A|     0.0|    1.0|\n",
      "| 841|      1.0|               A|     0.0|    1.0|\n",
      "| 905|      1.0|               B|     0.0|    1.0|\n",
      "| 911|      1.0|               B|     0.0|    1.0|\n",
      "| 965|      1.0|               B|     0.0|    1.0|\n",
      "|1082|      1.0|               C|     0.0|    1.0|\n",
      "|1246|      1.0|               A|     0.0|    1.0|\n",
      "|1443|      1.0|               B|     0.0|    1.0|\n",
      "|1450|      1.0|               A|     0.0|    1.0|\n",
      "|1633|      1.0|               A|     0.0|    1.0|\n",
      "|1730|      1.0|               B|     0.0|    1.0|\n",
      "|1773|      1.0|               C|     0.0|    1.0|\n",
      "|1904|      1.0|               B|     0.0|    1.0|\n",
      "|1908|      1.0|               B|     0.0|    1.0|\n",
      "|1913|      1.0|               A|     0.0|    1.0|\n",
      "|2450|      1.0|               A|     0.0|    1.0|\n",
      "+----+---------+----------------+--------+-------+\n",
      "only showing top 20 rows\n",
      "\n"
     ]
    }
   ],
   "source": [
    "Flight_cancel.na.drop(how='any').show()"
   ]
  },
  {
   "cell_type": "code",
   "execution_count": 35,
   "metadata": {},
   "outputs": [
    {
     "name": "stdout",
     "output_type": "stream",
     "text": [
      "+---+---------+----------------+--------+-------+\n",
      "| ID|Cancelled|CancellationCode|Diverted|Flights|\n",
      "+---+---------+----------------+--------+-------+\n",
      "|  0|      0.0|             yes|     0.0|    1.0|\n",
      "|  1|      0.0|             yes|     0.0|    1.0|\n",
      "|  2|      0.0|             yes|     0.0|    1.0|\n",
      "|  3|      0.0|             yes|     0.0|    1.0|\n",
      "|  4|      0.0|             yes|     0.0|    1.0|\n",
      "|  5|      0.0|             yes|     0.0|    1.0|\n",
      "|  6|      0.0|             yes|     0.0|    1.0|\n",
      "|  7|      0.0|             yes|     0.0|    1.0|\n",
      "|  8|      0.0|             yes|     0.0|    1.0|\n",
      "|  9|      0.0|             yes|     0.0|    1.0|\n",
      "| 10|      0.0|             yes|     0.0|    1.0|\n",
      "| 11|      0.0|             yes|     0.0|    1.0|\n",
      "| 12|      0.0|             yes|     0.0|    1.0|\n",
      "| 13|      0.0|             yes|     0.0|    1.0|\n",
      "| 14|      0.0|             yes|     0.0|    1.0|\n",
      "| 15|      0.0|             yes|     0.0|    1.0|\n",
      "| 16|      0.0|             yes|     0.0|    1.0|\n",
      "| 17|      0.0|             yes|     0.0|    1.0|\n",
      "| 18|      0.0|             yes|     0.0|    1.0|\n",
      "| 19|      1.0|               A|     0.0|    1.0|\n",
      "+---+---------+----------------+--------+-------+\n",
      "only showing top 20 rows\n",
      "\n"
     ]
    }
   ],
   "source": [
    "Flight_cancel.na.fill(\"yes\").show()"
   ]
  },
  {
   "cell_type": "markdown",
   "metadata": {},
   "source": [
    "# apply pyspark windows function"
   ]
  },
  {
   "cell_type": "code",
   "execution_count": 37,
   "metadata": {},
   "outputs": [],
   "source": [
    "from pyspark.sql.window import Window\n",
    "from pyspark.sql.functions import row_number"
   ]
  },
  {
   "cell_type": "code",
   "execution_count": 39,
   "metadata": {},
   "outputs": [
    {
     "name": "stdout",
     "output_type": "stream",
     "text": [
      "+-----+---------------+------------------+------------------+------+--------------------+-----------+---------------+----------+\n",
      "|  _c0|OriginAirportID|OriginAirportSeqID|OriginCityMarketID|Origin|      OriginCityName|OriginState|OriginStateName|row_number|\n",
      "+-----+---------------+------------------+------------------+------+--------------------+-----------+---------------+----------+\n",
      "|22201|          12016|           1201601|             32016|   GUM|          Guam, Guam|       null|           null|         1|\n",
      "|32252|          12016|           1201601|             32016|   GUM|          Guam, Guam|       null|           null|         2|\n",
      "|47945|          14583|           1458301|             34583|   ROR|Koror, Palau Dist...|       null|           null|         3|\n",
      "| 4406|          14843|           1484301|             34819|   SJU|San Juan, Puerto ...|       null|           null|         4|\n",
      "|11056|          14843|           1484301|             34819|   SJU|San Juan, Puerto ...|       null|           null|         5|\n",
      "|11127|          14843|           1484301|             34819|   SJU|San Juan, Puerto ...|       null|           null|         6|\n",
      "|17268|          14843|           1484301|             34819|   SJU|San Juan, Puerto ...|       null|           null|         7|\n",
      "|19012|          14843|           1484301|             34819|   SJU|San Juan, Puerto ...|       null|           null|         8|\n",
      "|20504|          14843|           1484301|             34819|   SJU|San Juan, Puerto ...|       null|           null|         9|\n",
      "|21724|          14843|           1484301|             34819|   SJU|San Juan, Puerto ...|       null|           null|        10|\n",
      "|27784|          14843|           1484301|             34819|   SJU|San Juan, Puerto ...|       null|           null|        11|\n",
      "|31525|          14843|           1484301|             34819|   SJU|San Juan, Puerto ...|       null|           null|        12|\n",
      "|39618|          14843|           1484301|             34819|   SJU|San Juan, Puerto ...|       null|           null|        13|\n",
      "|18173|          14955|           1495501|             34955|   SPN|Saipan, Northern ...|       null|           null|        14|\n",
      "|22928|          15024|           1502402|             34945|   STT|Charlotte Amalie,...|       null|           null|        15|\n",
      "|27212|          15024|           1502402|             34945|   STT|Charlotte Amalie,...|       null|           null|        16|\n",
      "|29420|          15024|           1502402|             34945|   STT|Charlotte Amalie,...|       null|           null|        17|\n",
      "|37516|          15024|           1502402|             34945|   STT|Charlotte Amalie,...|       null|           null|        18|\n",
      "|40192|          15024|           1502402|             34945|   STT|Charlotte Amalie,...|       null|           null|        19|\n",
      "|45635|          15027|           1502701|             34992|   STX|Christiansted, Vi...|       null|           null|        20|\n",
      "+-----+---------------+------------------+------------------+------+--------------------+-----------+---------------+----------+\n",
      "only showing top 20 rows\n",
      "\n"
     ]
    }
   ],
   "source": [
    "ndf = Window.partitionBy(\"OriginState\").orderBy(\"OriginAirportID\")\n",
    "Flight_Origin.withColumn(\"row_number\",row_number().over(ndf)).show()"
   ]
  },
  {
   "cell_type": "code",
   "execution_count": 40,
   "metadata": {},
   "outputs": [],
   "source": [
    "# Use Rank Function\n",
    "from pyspark.sql.functions import rank"
   ]
  },
  {
   "cell_type": "code",
   "execution_count": 41,
   "metadata": {},
   "outputs": [
    {
     "name": "stdout",
     "output_type": "stream",
     "text": [
      "+-----+---------------+------------------+------------------+------+--------------------+-----------+---------------+----+\n",
      "|  _c0|OriginAirportID|OriginAirportSeqID|OriginCityMarketID|Origin|      OriginCityName|OriginState|OriginStateName|rank|\n",
      "+-----+---------------+------------------+------------------+------+--------------------+-----------+---------------+----+\n",
      "|22201|          12016|           1201601|             32016|   GUM|          Guam, Guam|       null|           null|   1|\n",
      "|32252|          12016|           1201601|             32016|   GUM|          Guam, Guam|       null|           null|   1|\n",
      "|47945|          14583|           1458301|             34583|   ROR|Koror, Palau Dist...|       null|           null|   3|\n",
      "| 4406|          14843|           1484301|             34819|   SJU|San Juan, Puerto ...|       null|           null|   4|\n",
      "|11056|          14843|           1484301|             34819|   SJU|San Juan, Puerto ...|       null|           null|   4|\n",
      "|11127|          14843|           1484301|             34819|   SJU|San Juan, Puerto ...|       null|           null|   4|\n",
      "|17268|          14843|           1484301|             34819|   SJU|San Juan, Puerto ...|       null|           null|   4|\n",
      "|19012|          14843|           1484301|             34819|   SJU|San Juan, Puerto ...|       null|           null|   4|\n",
      "|20504|          14843|           1484301|             34819|   SJU|San Juan, Puerto ...|       null|           null|   4|\n",
      "|21724|          14843|           1484301|             34819|   SJU|San Juan, Puerto ...|       null|           null|   4|\n",
      "|27784|          14843|           1484301|             34819|   SJU|San Juan, Puerto ...|       null|           null|   4|\n",
      "|31525|          14843|           1484301|             34819|   SJU|San Juan, Puerto ...|       null|           null|   4|\n",
      "|39618|          14843|           1484301|             34819|   SJU|San Juan, Puerto ...|       null|           null|   4|\n",
      "|18173|          14955|           1495501|             34955|   SPN|Saipan, Northern ...|       null|           null|  14|\n",
      "|22928|          15024|           1502402|             34945|   STT|Charlotte Amalie,...|       null|           null|  15|\n",
      "|27212|          15024|           1502402|             34945|   STT|Charlotte Amalie,...|       null|           null|  15|\n",
      "|29420|          15024|           1502402|             34945|   STT|Charlotte Amalie,...|       null|           null|  15|\n",
      "|37516|          15024|           1502402|             34945|   STT|Charlotte Amalie,...|       null|           null|  15|\n",
      "|40192|          15024|           1502402|             34945|   STT|Charlotte Amalie,...|       null|           null|  15|\n",
      "|45635|          15027|           1502701|             34992|   STX|Christiansted, Vi...|       null|           null|  20|\n",
      "+-----+---------------+------------------+------------------+------+--------------------+-----------+---------------+----+\n",
      "only showing top 20 rows\n",
      "\n"
     ]
    }
   ],
   "source": [
    "Flight_Origin.withColumn(\"rank\", rank().over(ndf)).show()"
   ]
  },
  {
   "cell_type": "code",
   "execution_count": 45,
   "metadata": {},
   "outputs": [
    {
     "name": "stdout",
     "output_type": "stream",
     "text": [
      "+-----+---------------+------------------+------------------+------+--------------------+-----------+---------------+\n",
      "|  _c0|OriginAirportID|OriginAirportSeqID|OriginCityMarketID|Origin|      OriginCityName|OriginState|OriginStateName|\n",
      "+-----+---------------+------------------+------------------+------+--------------------+-----------+---------------+\n",
      "|46502|          10135|           1013501|             30135|   ABE|Allentown/Bethleh...|         PA|   Pennsylvania|\n",
      "|23780|          10135|           1013501|             30135|   ABE|Allentown/Bethleh...|         PA|   Pennsylvania|\n",
      "| 1590|          10135|           1013501|             30135|   ABE|Allentown/Bethleh...|         PA|   Pennsylvania|\n",
      "|24002|          10135|           1013501|             30135|   ABE|Allentown/Bethleh...|         PA|   Pennsylvania|\n",
      "|12518|          10135|           1013501|             30135|   ABE|Allentown/Bethleh...|         PA|   Pennsylvania|\n",
      "|24780|          10135|           1013501|             30135|   ABE|Allentown/Bethleh...|         PA|   Pennsylvania|\n",
      "| 5113|          10135|           1013502|             30135|   ABE|Allentown/Bethleh...|         PA|   Pennsylvania|\n",
      "|25125|          10135|           1013501|             30135|   ABE|Allentown/Bethleh...|         PA|   Pennsylvania|\n",
      "|38459|          10135|           1013501|             30135|   ABE|Allentown/Bethleh...|         PA|   Pennsylvania|\n",
      "|25502|          10135|           1013501|             30135|   ABE|Allentown/Bethleh...|         PA|   Pennsylvania|\n",
      "| 5403|          10135|           1013505|             30135|   ABE|Allentown/Bethleh...|         PA|   Pennsylvania|\n",
      "|26066|          10135|           1013501|             30135|   ABE|Allentown/Bethleh...|         PA|   Pennsylvania|\n",
      "|13333|          10135|           1013505|             30135|   ABE|Allentown/Bethleh...|         PA|   Pennsylvania|\n",
      "|26118|          10135|           1013501|             30135|   ABE|Allentown/Bethleh...|         PA|   Pennsylvania|\n",
      "| 5819|          10135|           1013501|             30135|   ABE|Allentown/Bethleh...|         PA|   Pennsylvania|\n",
      "|27478|          10135|           1013501|             30135|   ABE|Allentown/Bethleh...|         PA|   Pennsylvania|\n",
      "|46998|          10135|           1013501|             30135|   ABE|Allentown/Bethleh...|         PA|   Pennsylvania|\n",
      "|27701|          10135|           1013501|             30135|   ABE|Allentown/Bethleh...|         PA|   Pennsylvania|\n",
      "| 6277|          10135|           1013501|             30135|   ABE|Allentown/Bethleh...|         PA|   Pennsylvania|\n",
      "|28914|          10135|           1013501|             30135|   ABE|Allentown/Bethleh...|         PA|   Pennsylvania|\n",
      "+-----+---------------+------------------+------------------+------+--------------------+-----------+---------------+\n",
      "only showing top 20 rows\n",
      "\n"
     ]
    }
   ],
   "source": [
    "# sorting dataframe using sort\n",
    "Flight_Origin.sort(\"Origin\",\"OriginState\").show()"
   ]
  },
  {
   "cell_type": "code",
   "execution_count": 47,
   "metadata": {},
   "outputs": [
    {
     "name": "stdout",
     "output_type": "stream",
     "text": [
      "+-----+---------------+------------------+------------------+------+--------------------+-----------+---------------+\n",
      "|  _c0|OriginAirportID|OriginAirportSeqID|OriginCityMarketID|Origin|      OriginCityName|OriginState|OriginStateName|\n",
      "+-----+---------------+------------------+------------------+------+--------------------+-----------+---------------+\n",
      "|46502|          10135|           1013501|             30135|   ABE|Allentown/Bethleh...|         PA|   Pennsylvania|\n",
      "|12518|          10135|           1013501|             30135|   ABE|Allentown/Bethleh...|         PA|   Pennsylvania|\n",
      "|38459|          10135|           1013501|             30135|   ABE|Allentown/Bethleh...|         PA|   Pennsylvania|\n",
      "|13333|          10135|           1013505|             30135|   ABE|Allentown/Bethleh...|         PA|   Pennsylvania|\n",
      "| 1590|          10135|           1013501|             30135|   ABE|Allentown/Bethleh...|         PA|   Pennsylvania|\n",
      "|15968|          10135|           1013501|             30135|   ABE|Allentown/Bethleh...|         PA|   Pennsylvania|\n",
      "|39459|          10135|           1013501|             30135|   ABE|Allentown/Bethleh...|         PA|   Pennsylvania|\n",
      "|16445|          10135|           1013501|             30135|   ABE|Allentown/Bethleh...|         PA|   Pennsylvania|\n",
      "|23780|          10135|           1013501|             30135|   ABE|Allentown/Bethleh...|         PA|   Pennsylvania|\n",
      "|16523|          10135|           1013501|             30135|   ABE|Allentown/Bethleh...|         PA|   Pennsylvania|\n",
      "|40523|          10135|           1013501|             30135|   ABE|Allentown/Bethleh...|         PA|   Pennsylvania|\n",
      "|19374|          10135|           1013501|             30135|   ABE|Allentown/Bethleh...|         PA|   Pennsylvania|\n",
      "| 5113|          10135|           1013502|             30135|   ABE|Allentown/Bethleh...|         PA|   Pennsylvania|\n",
      "|19614|          10135|           1013501|             30135|   ABE|Allentown/Bethleh...|         PA|   Pennsylvania|\n",
      "|42080|          10135|           1013501|             30135|   ABE|Allentown/Bethleh...|         PA|   Pennsylvania|\n",
      "|20102|          10135|           1013501|             30135|   ABE|Allentown/Bethleh...|         PA|   Pennsylvania|\n",
      "|46998|          10135|           1013501|             30135|   ABE|Allentown/Bethleh...|         PA|   Pennsylvania|\n",
      "|20169|          10135|           1013503|             30135|   ABE|Allentown/Bethleh...|         PA|   Pennsylvania|\n",
      "|42910|          10135|           1013501|             30135|   ABE|Allentown/Bethleh...|         PA|   Pennsylvania|\n",
      "|20730|          10135|           1013501|             30135|   ABE|Allentown/Bethleh...|         PA|   Pennsylvania|\n",
      "+-----+---------------+------------------+------------------+------+--------------------+-----------+---------------+\n",
      "only showing top 20 rows\n",
      "\n"
     ]
    }
   ],
   "source": [
    "# sorting dataframe using orderBy\n",
    "Flight_Origin.orderBy(\"Origin\",\"OriginState\").show()"
   ]
  },
  {
   "cell_type": "code",
   "execution_count": null,
   "metadata": {},
   "outputs": [],
   "source": []
  }
 ],
 "metadata": {
  "kernelspec": {
   "display_name": "Python 3",
   "language": "python",
   "name": "python3"
  },
  "language_info": {
   "codemirror_mode": {
    "name": "ipython",
    "version": 3
   },
   "file_extension": ".py",
   "mimetype": "text/x-python",
   "name": "python",
   "nbconvert_exporter": "python",
   "pygments_lexer": "ipython3",
   "version": "3.9.13"
  },
  "orig_nbformat": 4
 },
 "nbformat": 4,
 "nbformat_minor": 2
}
